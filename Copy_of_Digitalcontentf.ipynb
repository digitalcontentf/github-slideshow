{
  "nbformat": 4,
  "nbformat_minor": 0,
  "metadata": {
    "colab": {
      "name": "Copy of Digitalcontentf.ipynb",
      "provenance": [],
      "toc_visible": true,
      "authorship_tag": "ABX9TyM6yIVR/+pDzivGzn4U2p68",
      "include_colab_link": true
    },
    "kernelspec": {
      "name": "python3",
      "display_name": "Python 3"
    },
    "language_info": {
      "name": "python"
    }
  },
  "cells": [
    {
      "cell_type": "markdown",
      "metadata": {
        "id": "view-in-github",
        "colab_type": "text"
      },
      "source": [
        "<a href=\"https://colab.research.google.com/github/digitalcontentf/github-slideshow/blob/master/Copy_of_Digitalcontentf.ipynb\" target=\"_parent\"><img src=\"https://colab.research.google.com/assets/colab-badge.svg\" alt=\"Open In Colab\"/></a>"
      ]
    },
    {
      "cell_type": "code",
      "metadata": {
        "colab": {
          "base_uri": "https://localhost:8080/"
        },
        "id": "qqiPKoNI2XWS",
        "outputId": "df0cf8ef-9e00-43f0-bafd-5b0e049282cb"
      },
      "source": [
        "import random\n",
        "import string\n",
        "\n",
        "def get_random_password():\n",
        "    random_source = string.ascii_letters + string.digits + string.punctuation\n",
        "    # select 1 lowercase\n",
        "    password = random.choice(string.ascii_lowercase)\n",
        "    # select 1 uppercase\n",
        "    password += random.choice(string.ascii_uppercase)\n",
        "    # select 1 digit\n",
        "    password += random.choice(string.digits)\n",
        "    # select 1 special symbol\n",
        "    password += random.choice(string.punctuation)\n",
        "    # generate other characters\n",
        "    for i in range(4):\n",
        "        password += random.choice(random_source)\n",
        "    password_list = list(password)\n",
        "    # shuffle all characters\n",
        "    random.SystemRandom().shuffle(password_list)\n",
        "    password = ''.join(password_list)\n",
        "    return password\n",
        "\n",
        "print(\"Random Password is \", get_random_password())"
      ],
      "execution_count": 45,
      "outputs": [
        {
          "output_type": "stream",
          "text": [
            "Random Password is  :Uyu<B%6\n"
          ],
          "name": "stdout"
        }
      ]
    }
  ]
}